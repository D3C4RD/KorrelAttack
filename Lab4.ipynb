{
 "cells": [
  {
   "cell_type": "code",
   "execution_count": 62,
   "id": "0c7deafb-32f4-4026-ae61-a207cb3ac93d",
   "metadata": {},
   "outputs": [],
   "source": [
    "class RS:\n",
    "    def __init__(self, s, function):\n",
    "        self.s = s  \n",
    "        self.function = function \n",
    "\n",
    "    def gen(self):\n",
    "        output = self.s[len(self.s) - 1]  \n",
    "        value = 0  \n",
    "        for i in self.function:  \n",
    "            value += self.s[i]\n",
    "        value %= 2\n",
    "        self.s = [value] + self.s[:len(self.s) - 1]  # Сдвиг\n",
    "        return output\n",
    "\n",
    "from random import randint\n",
    "\n",
    "def to_bin(a,l):\n",
    "    result = []\n",
    "    for i in range(l):\n",
    "        result.append(a % 2)\n",
    "        a = a // 2\n",
    "    result.reverse()\n",
    "    return result\n",
    "\n",
    "def from_bin(a):\n",
    "    result = 0\n",
    "    for i in range(len(a)):\n",
    "        result += a[i] * 2 ** (len(a) - i - 1)\n",
    "    return result\n",
    "    \n",
    "from tqdm import tqdm\n",
    "import time\n",
    "import scipy.stats as stats\n",
    "beta = 0.0000001\n",
    "def attack_reg(n,rr):\n",
    "    count =0\n",
    "    for i in range(len(f)):\n",
    "        if x[n][i]==f[i]:\n",
    "            count+=1\n",
    "    q0=1/2\n",
    "    q1=count/len(f)\n",
    "    if q1!=1/2:\n",
    "        quantil = stats.norm.ppf(1-beta)\n",
    "        N = ((quantil * (q0 * (1 - q0)) ** (1 / 2) + quantil * (q1 * (1 - q1)) ** (1 / 2)) ** 2) / (q0 - q1) ** 2\n",
    "        N=int(N)+1\n",
    "        C = quantil * (N * q1 * (1 - q1)) ** (1 / 2) + N * (1-q1)\n",
    "        C=int(C)\n",
    "        print('-'*5+f'регистр {n+1}'+'-'*5)\n",
    "        print(f'N={N} C={C}')\n",
    "        regs = []\n",
    "        for i in range(rr):\n",
    "            regs.append(RS(start[i],xor[i]))\n",
    "        gen_out = []\n",
    "        for i in range(N):\n",
    "            v=[]\n",
    "            for j in range(rr):\n",
    "                v.append(regs[j].gen())\n",
    "            gen_out.append(f[from_bin(v)])\n",
    "        mb = []\n",
    "        for i in tqdm(range(2**len(start[n]))):\n",
    "            reg = RS(to_bin(i,len(start[n])),xor[n])\n",
    "            c=0\n",
    "            for j in range(N):\n",
    "               if reg.gen() != gen_out[j]:\n",
    "                   c+=1\n",
    "               if c>C:\n",
    "                   break\n",
    "            if c<=C:\n",
    "               mb.append((i,c))\n",
    "        \n",
    "        for i in mb:\n",
    "            print(f'Кандидат:{i[0]} С={i[1]}')\n",
    "        print()\n",
    "        return [i[0] for i in mb]        \n",
    "    else:\n",
    "        return [i for i in range(2**len(start[n]))]\n",
    "        \n",
    "def attack(n_regs):\n",
    "    total = []\n",
    "    for i in range(n_regs):\n",
    "        print(f'начальное заполнение регистра r{i+1}=',end='')\n",
    "        for j in range(len(start[i])):\n",
    "            print(f'{start[i][j]}',end='')\n",
    "        print(f' {from_bin(start[i])}')\n",
    "    for i in range(n_regs):\n",
    "        total.append(attack_reg(i,n_regs))\n",
    "    return total"
   ]
  },
  {
   "cell_type": "markdown",
   "id": "1a4aca51-1869-4612-b1a3-83684cde024b",
   "metadata": {},
   "source": [
    "# Пример с занятия"
   ]
  },
  {
   "cell_type": "code",
   "execution_count": 63,
   "id": "0d41cf79-fa9f-4f74-93a4-2da23599c8df",
   "metadata": {},
   "outputs": [
    {
     "name": "stdout",
     "output_type": "stream",
     "text": [
      "начальное заполнение регистра r1=111 7\n",
      "начальное заполнение регистра r2=11 3\n",
      "начальное заполнение регистра r3=11 3\n",
      "-----регистр 1-----\n",
      "N=1676 C=731\n"
     ]
    },
    {
     "name": "stderr",
     "output_type": "stream",
     "text": [
      "100%|███████████████████████████████████████████████████████████████████████████████████| 8/8 [00:00<00:00, 999.15it/s]\n"
     ]
    },
    {
     "name": "stdout",
     "output_type": "stream",
     "text": [
      "Кандидат:0 С=639\n",
      "Кандидат:7 С=320\n",
      "\n",
      "-----регистр 2-----\n",
      "N=1676 C=731\n"
     ]
    },
    {
     "name": "stderr",
     "output_type": "stream",
     "text": [
      "100%|██████████████████████████████████████████████████████████████████████████████████| 4/4 [00:00<00:00, 1337.26it/s]\n"
     ]
    },
    {
     "name": "stdout",
     "output_type": "stream",
     "text": [
      "Кандидат:0 С=639\n",
      "Кандидат:3 С=479\n",
      "\n",
      "-----регистр 3-----\n",
      "N=1676 C=731\n"
     ]
    },
    {
     "name": "stderr",
     "output_type": "stream",
     "text": [
      "100%|██████████████████████████████████████████████████████████████████████████████████| 4/4 [00:00<00:00, 1002.64it/s]"
     ]
    },
    {
     "name": "stdout",
     "output_type": "stream",
     "text": [
      "Кандидат:0 С=639\n",
      "Кандидат:3 С=479\n",
      "\n"
     ]
    },
    {
     "name": "stderr",
     "output_type": "stream",
     "text": [
      "\n"
     ]
    },
    {
     "data": {
      "text/plain": [
       "[[0, 7], [0, 3], [0, 3]]"
      ]
     },
     "execution_count": 63,
     "metadata": {},
     "output_type": "execute_result"
    }
   ],
   "source": [
    "x=[\n",
    "    [0]*4+[1]*4,\n",
    "    ([0]*2+[1]*2)*2,\n",
    "    [0,1]*4\n",
    "]\n",
    "start = [\n",
    "    [1,1,1],\n",
    "    [1,1],\n",
    "    [1,1]\n",
    "]\n",
    "xor = [\n",
    "    [1,2],\n",
    "    [1,0],\n",
    "    [1,0]\n",
    "]\n",
    "f=[0]*7+[1]\n",
    "attack(3)"
   ]
  },
  {
   "cell_type": "markdown",
   "id": "cbda7359-8f77-495b-8048-0e200c2f16fb",
   "metadata": {},
   "source": [
    "# Для курсовой"
   ]
  },
  {
   "cell_type": "code",
   "execution_count": 64,
   "id": "a1cdb314-0437-4cf1-9cc0-e871b32267e4",
   "metadata": {},
   "outputs": [
    {
     "name": "stdout",
     "output_type": "stream",
     "text": [
      "начальное заполнение регистра r1=0101111100001 3041\n",
      "начальное заполнение регистра r2=1111010110010 7858\n",
      "начальное заполнение регистра r3=1000111011001 4569\n",
      "начальное заполнение регистра r4=0001101101010 874\n",
      "начальное заполнение регистра r5=0001000110101 565\n",
      "начальное заполнение регистра r6=001110111011100 7644\n",
      "-----регистр 1-----\n",
      "N=27628 C=13381\n"
     ]
    },
    {
     "name": "stderr",
     "output_type": "stream",
     "text": [
      "100%|██████████████████████████████████████████████████████████████████████████████| 8192/8192 [02:26<00:00, 55.89it/s]\n"
     ]
    },
    {
     "name": "stdout",
     "output_type": "stream",
     "text": [
      "Кандидат:3041 С=12963\n",
      "\n",
      "-----регистр 2-----\n",
      "N=27628 C=13381\n"
     ]
    },
    {
     "name": "stderr",
     "output_type": "stream",
     "text": [
      "100%|██████████████████████████████████████████████████████████████████████████████| 8192/8192 [02:26<00:00, 55.85it/s]\n"
     ]
    },
    {
     "name": "stdout",
     "output_type": "stream",
     "text": [
      "Кандидат:7858 С=12893\n",
      "\n",
      "-----регистр 3-----\n",
      "N=3022 C=1368\n"
     ]
    },
    {
     "name": "stderr",
     "output_type": "stream",
     "text": [
      "100%|█████████████████████████████████████████████████████████████████████████████| 8192/8192 [00:15<00:00, 542.17it/s]\n"
     ]
    },
    {
     "name": "stdout",
     "output_type": "stream",
     "text": [
      "Кандидат:4569 С=1222\n",
      "\n",
      "-----регистр 4-----\n",
      "N=6867 C=3218\n"
     ]
    },
    {
     "name": "stderr",
     "output_type": "stream",
     "text": [
      "100%|█████████████████████████████████████████████████████████████████████████████| 8192/8192 [00:35<00:00, 233.54it/s]\n"
     ]
    },
    {
     "name": "stdout",
     "output_type": "stream",
     "text": [
      "Кандидат:874 С=3044\n",
      "Кандидат:5947 С=3201\n",
      "\n",
      "-----регистр 5-----\n",
      "N=27628 C=13381\n"
     ]
    },
    {
     "name": "stderr",
     "output_type": "stream",
     "text": [
      "100%|██████████████████████████████████████████████████████████████████████████████| 8192/8192 [02:03<00:00, 66.08it/s]\n"
     ]
    },
    {
     "name": "stdout",
     "output_type": "stream",
     "text": [
      "Кандидат:565 С=12887\n",
      "\n",
      "-----регистр 6-----\n",
      "N=27628 C=13381\n"
     ]
    },
    {
     "name": "stderr",
     "output_type": "stream",
     "text": [
      "100%|████████████████████████████████████████████████████████████████████████████| 32768/32768 [08:23<00:00, 65.02it/s]"
     ]
    },
    {
     "name": "stdout",
     "output_type": "stream",
     "text": [
      "Кандидат:7644 С=12985\n",
      "\n"
     ]
    },
    {
     "name": "stderr",
     "output_type": "stream",
     "text": [
      "\n"
     ]
    }
   ],
   "source": [
    "x=[\n",
    "    [0]*32+[1]*32,\n",
    "    ([0]*16+[1]*16)*2,\n",
    "    ([0]*8+[1]*8)*4,\n",
    "    ([0]*4+[1]*4)*8,\n",
    "    ([0]*2+[1]*2)*16,\n",
    "    [0,1]*32\n",
    "]\n",
    "start = [\n",
    "    [randint(0,1) for i in range(13)],\n",
    "    [randint(0,1) for i in range(13)],\n",
    "    [randint(0,1) for i in range(13)],\n",
    "    [randint(0,1) for i in range(13)],\n",
    "    [randint(0,1) for i in range(13)],\n",
    "    [randint(0,1) for i in range(15)]\n",
    "]\n",
    "xor = [\n",
    "    [12,11,9,8], # x^13+x^4+x^3+x+1\n",
    "    [12,10,9,8], # x^13+x^4+x^3+x^2+1\n",
    "    [12,11,10,9,8], #x^13+x^4+x^3+x^2+x+1\n",
    "    [12,11,10,8], #x^13+x^4+x^2+x+1\n",
    "    [12,9], #x^13+x^3+1\n",
    "    [14,13] #x^15+x+1\n",
    "]\n",
    "\n",
    "f=\"0001000111010100000011111001101100111000010111111011100010000111\"\n",
    "f=[int(ch) for ch in f]\n",
    "total=attack(6)"
   ]
  },
  {
   "cell_type": "markdown",
   "id": "6490dd10-d76c-4cfe-9690-f255155fd20a",
   "metadata": {},
   "source": [
    "# Перебор кандидатов"
   ]
  },
  {
   "cell_type": "code",
   "execution_count": 66,
   "id": "b31c6bd1-0105-4d09-ae77-37535b9e5520",
   "metadata": {},
   "outputs": [
    {
     "data": {
      "text/plain": [
       "[[3041], [7858], [4569], [874, 5947], [565], [7644]]"
      ]
     },
     "execution_count": 66,
     "metadata": {},
     "output_type": "execute_result"
    }
   ],
   "source": [
    "total"
   ]
  },
  {
   "cell_type": "code",
   "execution_count": 92,
   "id": "5e12dd8a-1850-4561-9a12-fe6b047fc8da",
   "metadata": {},
   "outputs": [
    {
     "name": "stdout",
     "output_type": "stream",
     "text": [
      "r1=3041\n",
      "r2=7858\n",
      "r3=4569\n",
      "r4=874\n",
      "r5=565\n",
      "r6=7644\n",
      "\n"
     ]
    }
   ],
   "source": [
    "regs=[]\n",
    "for i in range(6):\n",
    "    regs.append(RS(start[i],xor[i]))\n",
    "gen_out = []\n",
    "for i in range(27628):\n",
    "    v=[j.gen() for j in regs]\n",
    "    gen_out.append(f[from_bin(v)])\n",
    "\n",
    "for r0 in total[0]:\n",
    "    for r1 in total[1]:\n",
    "        for r2 in total[2]:\n",
    "            for r3 in total[3]:\n",
    "                for r4 in total[4]:\n",
    "                    for r5 in total[5]:\n",
    "                        out=[]\n",
    "                        regs = [\n",
    "                            RS(to_bin(r0,13),xor[0]),\n",
    "                            RS(to_bin(r1,13),xor[1]),\n",
    "                            RS(to_bin(r2,13),xor[2]),\n",
    "                            RS(to_bin(r3,13),xor[3]),\n",
    "                            RS(to_bin(r4,13),xor[4]),\n",
    "                            RS(to_bin(r5,15),xor[5])\n",
    "                        ]\n",
    "                        for i in range(27628):\n",
    "                            v=[j.gen() for j in regs]\n",
    "                            out.append(f[from_bin(v)])\n",
    "                        if out == gen_out:\n",
    "                            st=''\n",
    "                            st+=f'r1={r0}\\n'\n",
    "                            st+=f'r2={r1}\\n'\n",
    "                            st+=f'r3={r2}\\n'\n",
    "                            st+=f'r4={r3}\\n'\n",
    "                            st+=f'r5={r4}\\n'\n",
    "                            st+=f'r6={r5}\\n'\n",
    "                            print(st)"
   ]
  },
  {
   "cell_type": "code",
   "execution_count": null,
   "id": "bb80bfec-81d7-4468-8110-9552819e7975",
   "metadata": {},
   "outputs": [],
   "source": []
  }
 ],
 "metadata": {
  "kernelspec": {
   "display_name": "Python 3 (ipykernel)",
   "language": "python",
   "name": "python3"
  },
  "language_info": {
   "codemirror_mode": {
    "name": "ipython",
    "version": 3
   },
   "file_extension": ".py",
   "mimetype": "text/x-python",
   "name": "python",
   "nbconvert_exporter": "python",
   "pygments_lexer": "ipython3",
   "version": "3.10.11"
  }
 },
 "nbformat": 4,
 "nbformat_minor": 5
}
